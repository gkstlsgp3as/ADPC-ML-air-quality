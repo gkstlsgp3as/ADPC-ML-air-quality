{
 "cells": [
  {
   "cell_type": "markdown",
   "id": "66d3cd28",
   "metadata": {},
   "source": [
    "## Preprocess S5P data\n",
    "\n",
    "Since S5P data are in designated coordinates, I needed to convert the them into longitude and latitude\n",
    "\n",
    "#### i) use harp library to extract longitude, latitude, and target variable "
   ]
  },
  {
   "cell_type": "code",
   "execution_count": 1,
   "id": "a95dd086",
   "metadata": {},
   "outputs": [],
   "source": [
    "import harp\n",
    "import numpy"
   ]
  },
  {
   "cell_type": "code",
   "execution_count": 2,
   "id": "09936f76",
   "metadata": {},
   "outputs": [],
   "source": [
    "from pandas import Series, DataFrame\n",
    "import matplotlib.pyplot as plt "
   ]
  },
  {
   "cell_type": "code",
   "execution_count": 3,
   "id": "3da9aaa7",
   "metadata": {},
   "outputs": [],
   "source": [
    "import os"
   ]
  },
  {
   "cell_type": "markdown",
   "id": "f37cba98",
   "metadata": {},
   "source": [
    "load a satellite data (.nc file) using harp and set the boundary"
   ]
  },
  {
   "cell_type": "code",
   "execution_count": 70,
   "id": "705928d3",
   "metadata": {},
   "outputs": [],
   "source": [
    "export_path ='D:/S5P/AI/harp/' "
   ]
  },
  {
   "cell_type": "code",
   "execution_count": 92,
   "id": "a3aa2f98",
   "metadata": {},
   "outputs": [],
   "source": [
    "pol=['AI','NO2','CO','HCHO','SO2','O3']\n",
    "pol_col=['absorbing_aerosol_index','tropospheric_NO2_column_number_density','CO_column_number_density','tropospheric_HCHO_column_number_density', 'SO2_column_number_density', 'O3_column_number_density']"
   ]
  },
  {
   "cell_type": "code",
   "execution_count": 90,
   "id": "4a8877b7",
   "metadata": {},
   "outputs": [],
   "source": [
    "ind=1"
   ]
  },
  {
   "cell_type": "code",
   "execution_count": 91,
   "id": "40509711",
   "metadata": {},
   "outputs": [
    {
     "ename": "FileNotFoundError",
     "evalue": "[WinError 3] 지정된 경로를 찾을 수 없습니다: 'D:/S5P/SO2'",
     "output_type": "error",
     "traceback": [
      "\u001b[1;31m---------------------------------------------------------------------------\u001b[0m",
      "\u001b[1;31mFileNotFoundError\u001b[0m                         Traceback (most recent call last)",
      "\u001b[1;32m<ipython-input-91-8650678bfa31>\u001b[0m in \u001b[0;36m<module>\u001b[1;34m\u001b[0m\n\u001b[1;32m----> 1\u001b[1;33m \u001b[0mfiles\u001b[0m\u001b[1;33m=\u001b[0m\u001b[0mos\u001b[0m\u001b[1;33m.\u001b[0m\u001b[0mlistdir\u001b[0m\u001b[1;33m(\u001b[0m\u001b[1;34m'D:/S5P/'\u001b[0m\u001b[1;33m+\u001b[0m\u001b[0mpol\u001b[0m\u001b[1;33m[\u001b[0m\u001b[0mind\u001b[0m\u001b[1;33m]\u001b[0m\u001b[1;33m)\u001b[0m\u001b[1;33m\u001b[0m\u001b[1;33m\u001b[0m\u001b[0m\n\u001b[0m\u001b[0;32m      2\u001b[0m \u001b[1;32mfor\u001b[0m \u001b[0mi\u001b[0m\u001b[1;33m,\u001b[0m\u001b[0mfile\u001b[0m \u001b[1;32min\u001b[0m \u001b[0menumerate\u001b[0m\u001b[1;33m(\u001b[0m\u001b[0mfiles\u001b[0m\u001b[1;33m)\u001b[0m\u001b[1;33m:\u001b[0m\u001b[1;33m\u001b[0m\u001b[1;33m\u001b[0m\u001b[0m\n\u001b[0;32m      3\u001b[0m     \u001b[0mprint\u001b[0m\u001b[1;33m(\u001b[0m\u001b[0mi\u001b[0m\u001b[1;33m,\u001b[0m\u001b[0mfile\u001b[0m\u001b[1;33m)\u001b[0m\u001b[1;33m\u001b[0m\u001b[1;33m\u001b[0m\u001b[0m\n",
      "\u001b[1;31mFileNotFoundError\u001b[0m: [WinError 3] 지정된 경로를 찾을 수 없습니다: 'D:/S5P/SO2'"
     ]
    }
   ],
   "source": [
    "files=os.listdir('D:/S5P/'+pol[ind])\n",
    "export_path ='D:/S5P/'+pol[ind]+'/harp/' \n",
    "for i,file in enumerate(files): \n",
    "    print(i,file)"
   ]
  },
  {
   "cell_type": "code",
   "execution_count": null,
   "id": "4ad04fba",
   "metadata": {},
   "outputs": [],
   "source": [
    "for file in files[:]: \n",
    "    \n",
    "    hcho_product = harp.import_product(\"D:/S5P/\"+pol[ind]+\"/\"+\"+file, \n",
    "                                   operations= \"\\\n",
    "                                   derive(datetime_stop {time});\\\n",
    "                                   latitude > 5 [degree_north] ; latitude < 22 [degree_north]; \\\n",
    "                                   longitude > 97 [degree_east]; longitude < 110 [degree_east];\\\n",
    "                                   keep(latitude_bounds, longitude_bounds, \"+pol_col[ind]+\");\\\n",
    "                                   bin_spatial(480, 5, 0.035, 350, 97, 0.035);\\\n",
    "                                   derive(latitude {latitude}); derive(longitude {longitude})\\\n",
    "                                   \")\n",
    "    \n",
    "    harp.export_product(hcho_product, export_path+pol[ind]+'_'+file[:7]+\".nc\", file_format='netcdf')"
   ]
  },
  {
   "cell_type": "code",
   "execution_count": null,
   "id": "f845c6a3",
   "metadata": {},
   "outputs": [],
   "source": []
  }
 ],
 "metadata": {
  "kernelspec": {
   "display_name": "Python 3",
   "language": "python",
   "name": "python3"
  },
  "language_info": {
   "codemirror_mode": {
    "name": "ipython",
    "version": 3
   },
   "file_extension": ".py",
   "mimetype": "text/x-python",
   "name": "python",
   "nbconvert_exporter": "python",
   "pygments_lexer": "ipython3",
   "version": "3.6.13"
  }
 },
 "nbformat": 4,
 "nbformat_minor": 5
}
